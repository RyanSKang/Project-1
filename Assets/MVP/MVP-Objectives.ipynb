{
 "cells": [
  {
   "cell_type": "code",
   "execution_count": null,
   "metadata": {},
   "outputs": [],
   "source": [
    "# Main Page MVP\n",
    "\n",
    "# Step 1: Creating a List of Ingredients to display on console log \n",
    "# Step 2: Create Buttons to display specific ingredients onto card on web application\n",
    "# Step 3: Making the specified ingredients list into a check list\n",
    "# Step 4: Store check list items into local storage once we click submit \n",
    "\n",
    "# Results Page MVP:\n",
    "\n",
    "# Step 1: Based on local storage from main page, display a list of foods containing said ingredients \n",
    "# Step 2: Needs to provide description of food for displayed food\n",
    "# Step 3: Needs to redirect to a different page when food card is selected from results\n",
    "# Step 4: create a save for later button that stores specific results into local storage or different webpage\n",
    "\n",
    "# See more MVP:\n",
    "\n",
    "# Step 1: Display the correct information of food and ingredients and recipe procedure on different page when a card from results is selected \n",
    "# Step 2: create a back page button to return to results. \n",
    "\n",
    "# Save for Later MVP: \n",
    "\n",
    "# Step 1: displays all saved for later results on a different page to be seen at user's convenience\n",
    "# Step 2: Should still be able to execute See more MVP"
   ]
  }
 ],
 "metadata": {
  "language_info": {
   "name": "python"
  },
  "orig_nbformat": 4
 },
 "nbformat": 4,
 "nbformat_minor": 2
}
